{
 "cells": [
  {
   "cell_type": "code",
   "execution_count": null,
   "metadata": {},
   "outputs": [],
   "source": [
    "import kfp\n",
    "import json\n",
    "from pipeline import FlexiPipeline\n",
    "import time\n",
    "\n",
    "# Generate a list of image IDs. This could be list of all images in s3 folder or downloaded locally in notebook volume.\n",
    "image_ids = [str(i) for i in range(1, 101)]\n",
    "\n",
    "# Define the batch size\n",
    "batch_size = 10\n",
    "\n",
    "# Specify the path to the configuration file\n",
    "config_path = \"/home/jovyan/custom_pipeline/FlexiKubeflowPipelineSolutions/pipeline/config.json\"\n",
    "\n",
    "# Initialize the FlexiPipeline object with the configuration file\n",
    "obj = FlexiPipeline(config_path=config_path)\n",
    "\n",
    "# Split the list of image IDs into batches\n",
    "batches = [image_ids[i:i+batch_size] for i in range(0, len(image_ids), batch_size)]\n",
    "\n",
    "# Iterate over each batch and execute the create_run method\n",
    "for batch in batches:\n",
    "    print(\"Creating run for batch of image IDs: \", batch)\n",
    "    run_id = obj.create_run(batch)\n",
    "    time.sleep(2)\n"
   ]
  },
  {
   "cell_type": "code",
   "execution_count": null,
   "metadata": {},
   "outputs": [],
   "source": [
    "#!pip install kfp==1.8.22"
   ]
  }
 ],
 "metadata": {
  "language_info": {
   "name": "python"
  }
 },
 "nbformat": 4,
 "nbformat_minor": 2
}
