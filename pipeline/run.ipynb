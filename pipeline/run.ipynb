{
 "cells": [
  {
   "cell_type": "code",
   "execution_count": null,
   "metadata": {},
   "outputs": [],
   "source": [
    "import kfp\n",
    "import json\n",
    "from pipeline import FlexiPipeline\n",
    "\n",
    "image_ids = [str(i) for i in range(1,101,1)]\n",
    "batch_size = 5\n",
    "\n",
    "config_path = \"/home/jovyan/flexi_kubeflow_pipeline_solutions/pipeline/config.json\"\n",
    "obj = FlexiPipeline(config_path=config_path)\n",
    "\n",
    "# Split the list of image ids into batches\n",
    "batches = [image_ids[i:i+batch_size] for i in range(0, len(image_ids), batch_size)]\n",
    "\n",
    "# Iterate over each batch and execute create_run method\n",
    "for batch in batches:\n",
    "    print(\"Creating run for batch of image ids: \",batch)\n",
    "    run_id = obj.create_run(batch)\n",
    "    print(\"Run id for batch:\", run_id)"
   ]
  }
 ],
 "metadata": {
  "language_info": {
   "name": "python"
  }
 },
 "nbformat": 4,
 "nbformat_minor": 2
}
